{
 "cells": [
  {
   "cell_type": "markdown",
   "metadata": {},
   "source": [
    "Here is a brief outline of this chapter:\n",
    "1. Common dictionary methods\n",
    "2. Special handling for missing keys\n",
    "3. Variations of dict in the standard library\n",
    "4. The set and frozenset types\n",
    "5. How hash tables work\n",
    "6. Implications of hash tables (key type limitations, unpredictable ordering, etc.)\n",
    "\n",
    "### Generic Mapping Types\n",
    "\n",
    "![title](assets/chp3-umldiagram.png)"
   ]
  },
  {
   "cell_type": "code",
   "execution_count": 7,
   "metadata": {},
   "outputs": [
    {
     "data": {
      "text/plain": [
       "True"
      ]
     },
     "execution_count": 7,
     "metadata": {},
     "output_type": "execute_result"
    }
   ],
   "source": [
    "import collections.abc as abc\n",
    "my_dict = {}\n",
    "isinstance(my_dict, abc.Mapping)"
   ]
  },
  {
   "cell_type": "markdown",
   "metadata": {},
   "source": [
    "Using isinstance is better than checking whether a function argument is of dict type, because then alternative mapping types can be used.\n",
    "\n",
    "All mapping types in the standard library use the basic dict in their implementation, so they share the limitation that the keys must be hashable (the values need not be hashable, only the keys).\n",
    "\n",
    "#### What Is Hashable?\n",
    "An object is hashable if it contains a hash value which remains unchanged during its lifetime(it needs a `__hash()__` method) and can be compared with other methods(it needs an `__eq()__` method). Equal hashable objects ust have the same hash value."
   ]
  },
  {
   "cell_type": "code",
   "execution_count": 8,
   "metadata": {},
   "outputs": [
    {
     "data": {
      "text/plain": [
       "1350807749"
      ]
     },
     "execution_count": 8,
     "metadata": {},
     "output_type": "execute_result"
    }
   ],
   "source": [
    "tt = (1, 2, (30, 40))\n",
    "hash(tt)"
   ]
  },
  {
   "cell_type": "code",
   "execution_count": 9,
   "metadata": {},
   "outputs": [
    {
     "ename": "TypeError",
     "evalue": "unhashable type: 'list'",
     "output_type": "error",
     "traceback": [
      "\u001b[1;31m---------------------------------------------------------------------------\u001b[0m",
      "\u001b[1;31mTypeError\u001b[0m                                 Traceback (most recent call last)",
      "\u001b[1;32m<ipython-input-9-258d676ca6dc>\u001b[0m in \u001b[0;36m<module>\u001b[1;34m\u001b[0m\n\u001b[0;32m      1\u001b[0m \u001b[0mtl\u001b[0m \u001b[1;33m=\u001b[0m \u001b[1;33m(\u001b[0m\u001b[1;36m1\u001b[0m\u001b[1;33m,\u001b[0m \u001b[1;36m2\u001b[0m\u001b[1;33m,\u001b[0m \u001b[1;33m[\u001b[0m\u001b[1;36m30\u001b[0m\u001b[1;33m,\u001b[0m \u001b[1;36m40\u001b[0m\u001b[1;33m]\u001b[0m\u001b[1;33m)\u001b[0m\u001b[1;33m\u001b[0m\u001b[1;33m\u001b[0m\u001b[0m\n\u001b[1;32m----> 2\u001b[1;33m \u001b[0mhash\u001b[0m\u001b[1;33m(\u001b[0m\u001b[0mtl\u001b[0m\u001b[1;33m)\u001b[0m\u001b[1;33m\u001b[0m\u001b[1;33m\u001b[0m\u001b[0m\n\u001b[0m",
      "\u001b[1;31mTypeError\u001b[0m: unhashable type: 'list'"
     ]
    }
   ],
   "source": [
    "tl = (1, 2, [30, 40])\n",
    "hash(tl)"
   ]
  },
  {
   "cell_type": "code",
   "execution_count": 10,
   "metadata": {},
   "outputs": [
    {
     "data": {
      "text/plain": [
       "1662783578"
      ]
     },
     "execution_count": 10,
     "metadata": {},
     "output_type": "execute_result"
    }
   ],
   "source": [
    "tf = (1, 2, frozenset([30, 40]))\n",
    "hash(tf)"
   ]
  },
  {
   "cell_type": "markdown",
   "metadata": {},
   "source": [
    "Note: \n",
    "`Python glossary states all immutable objects are hashable but that is inaccurate because tuples are immutable, yet it may contain references to unhashable objects`\n",
    "\n",
    "Ways to build a dictionary:"
   ]
  },
  {
   "cell_type": "code",
   "execution_count": 14,
   "metadata": {},
   "outputs": [
    {
     "data": {
      "text/plain": [
       "True"
      ]
     },
     "execution_count": 14,
     "metadata": {},
     "output_type": "execute_result"
    }
   ],
   "source": [
    "a = dict(one=1, two=2, three=3)\n",
    "b = {'one':1, 'two':2, 'three':3}\n",
    "c = dict(zip(['one', 'two', 'three'],[1, 2, 3]))\n",
    "d = dict([('two', 2), ('one', 1), ('three', 3)])\n",
    "e = dict({'three': 3, 'one': 1, 'two': 2})\n",
    "a == b == c == d == e"
   ]
  },
  {
   "cell_type": "markdown",
   "metadata": {},
   "source": [
    "### Dict Comprehensions\n",
    "The syntax of listcomps and genexps was applied to dictcomps and setcomps as well. Dictcomp builds a dict instance by producing key:value pair from any iterable."
   ]
  },
  {
   "cell_type": "code",
   "execution_count": 15,
   "metadata": {},
   "outputs": [
    {
     "data": {
      "text/plain": [
       "{'China': 86,\n",
       " 'India': 91,\n",
       " 'United States': 1,\n",
       " 'Indonesia': 62,\n",
       " 'Brazil': 55,\n",
       " 'Pakistan': 92,\n",
       " 'Bangladesh': 880,\n",
       " 'Nigeria': 234,\n",
       " 'Russia': 7,\n",
       " 'Japan': 81}"
      ]
     },
     "execution_count": 15,
     "metadata": {},
     "output_type": "execute_result"
    }
   ],
   "source": [
    "DIAL_CODES = [\n",
    "    (86, 'China'), \n",
    "    (91, 'India'), \n",
    "    (1, 'United States'),\n",
    "    (62, 'Indonesia'),\n",
    "    (55, 'Brazil'),\n",
    "    (92, 'Pakistan'),\n",
    "    (880, 'Bangladesh'),\n",
    "    (234, 'Nigeria'),\n",
    "    (7, 'Russia'),\n",
    "    (81, 'Japan'),\n",
    "]\n",
    "\n",
    "country_code = {country:code for code, country in DIAL_CODES}\n",
    "country_code"
   ]
  },
  {
   "cell_type": "code",
   "execution_count": 18,
   "metadata": {},
   "outputs": [
    {
     "data": {
      "text/plain": [
       "{1: 'UNITED STATES', 62: 'INDONESIA', 55: 'BRAZIL', 7: 'RUSSIA'}"
      ]
     },
     "execution_count": 18,
     "metadata": {},
     "output_type": "execute_result"
    }
   ],
   "source": [
    "{code: country.upper() for country, code in country_code.items() if code < 66}"
   ]
  },
  {
   "cell_type": "markdown",
   "metadata": {},
   "source": [
    "The methods implemented by dict and two of its most useful variations: defaultdict and OrderedDict, both defined in the Collections module.\n",
    "![title](assets/chp3-dict-default-ordered.png)\n",
    "\n",
    "### Handling Missing Keys with setdefault\n",
    "In line with the fail-fast philosophy, dict access with `d[k]` raises an error when k is not an existing key. Every Pythonista knows that `d.get(k, default)` is an alternative to `d[k]` whenever a default value is more convenient than handling KeyError. However, when updating the value found (if it is mutable), using either `__getitem__` or get is awkward and inefficient.\n",
    "The example below shows that `dict.get`  is not the best way to handle missing keys."
   ]
  },
  {
   "cell_type": "code",
   "execution_count": 24,
   "metadata": {},
   "outputs": [
    {
     "name": "stdout",
     "output_type": "stream",
     "text": [
      "Beautiful [(3, 1)]\n",
      "better [(3, 14), (4, 13), (5, 11), (6, 12), (7, 9)]\n",
      "by [(1, 20)]\n",
      "complex [(5, 23)]\n",
      "Complex [(6, 1)]\n",
      "complicated [(6, 24)]\n",
      "Explicit [(4, 1)]\n",
      "Flat [(7, 1)]\n",
      "implicit [(4, 25)]\n",
      "is [(3, 11), (4, 10), (5, 8), (6, 9), (7, 6)]\n",
      "nested [(7, 21)]\n",
      "of [(1, 9)]\n",
      "Peters [(1, 27)]\n",
      "Python [(1, 12)]\n",
      "Simple [(5, 1)]\n",
      "than [(3, 21), (4, 20), (5, 18), (6, 19), (7, 16)]\n",
      "The [(1, 1)]\n",
      "Tim [(1, 23)]\n",
      "ugly [(3, 26)]\n",
      "Zen [(1, 5)]\n"
     ]
    }
   ],
   "source": [
    "import re\n",
    "\n",
    "WORD_RE = re.compile('\\w+')\n",
    "\n",
    "index = {}\n",
    "with open('zen.txt', encoding='utf-8') as fp:\n",
    "    for line_no, line in enumerate(fp, 1):\n",
    "        for match in WORD_RE.finditer(line):\n",
    "            word = match.group()\n",
    "            column_no = match.start() + 1\n",
    "            location = (line_no, column_no)\n",
    "            # this is ugly; coded like this to make a point\n",
    "            occurrences = index.get(word, [])\n",
    "            occurrences.append(location)\n",
    "            index[word] = occurrences\n",
    "\n",
    "for word in sorted(index, key=str.upper):\n",
    "    print(word, index[word])"
   ]
  },
  {
   "cell_type": "markdown",
   "metadata": {},
   "source": [
    "The above does the folloing:\n",
    "1. Takes text file as input.\n",
    "2. Matches every word line by line. \n",
    "3. stores its location in a list. \n",
    "4. The location is a tuple formed by the line no and the column no. \n",
    "5. The index is a dict instance which stores the  words and the lists of location in the form of key-value pairs.\n",
    "\n",
    "Here when storing the location inside the value of a key. It gets the key value using `index.get(word, [])`. \n",
    "The second argument is what it returns as the value of the the key when the key is not present in the dictionary.\n",
    "We first store the value returned in a temporary variable, then append the location and finally store it in the dictionary.\n",
    "\n",
    "The above process is too unoptimal.\n",
    "The three lines of code can be replaced with a single line. This is where `setdefault` comes into picture. "
   ]
  },
  {
   "cell_type": "code",
   "execution_count": 25,
   "metadata": {},
   "outputs": [
    {
     "name": "stdout",
     "output_type": "stream",
     "text": [
      "Beautiful [(3, 1)]\n",
      "better [(3, 14), (4, 13), (5, 11), (6, 12), (7, 9)]\n",
      "by [(1, 20)]\n",
      "complex [(5, 23)]\n",
      "Complex [(6, 1)]\n",
      "complicated [(6, 24)]\n",
      "Explicit [(4, 1)]\n",
      "Flat [(7, 1)]\n",
      "implicit [(4, 25)]\n",
      "is [(3, 11), (4, 10), (5, 8), (6, 9), (7, 6)]\n",
      "nested [(7, 21)]\n",
      "of [(1, 9)]\n",
      "Peters [(1, 27)]\n",
      "Python [(1, 12)]\n",
      "Simple [(5, 1)]\n",
      "than [(3, 21), (4, 20), (5, 18), (6, 19), (7, 16)]\n",
      "The [(1, 1)]\n",
      "Tim [(1, 23)]\n",
      "ugly [(3, 26)]\n",
      "Zen [(1, 5)]\n"
     ]
    }
   ],
   "source": [
    "import re\n",
    "\n",
    "WORD_RE = re.compile('\\w+')\n",
    "\n",
    "index = {}\n",
    "with open('zen.txt', encoding='utf-8') as fp:\n",
    "    for line_no, line in enumerate(fp, 1):\n",
    "        for match in WORD_RE.finditer(line):\n",
    "            word = match.group()\n",
    "            column_no = match.start() + 1\n",
    "            location = (line_no, column_no)\n",
    "            index.setdefault(word, []).append(location)\n",
    "\n",
    "for word in sorted(index, key=str.upper):\n",
    "    print(word, index[word])"
   ]
  },
  {
   "cell_type": "markdown",
   "metadata": {},
   "source": [
    "Using `setdefault` does the following:\n",
    "1. Get the list of occurrences for word.\n",
    "2. Set it to `[]` if not found. \n",
    "3. `setdefault` returns the value, so it can be updated without requiring a second search."
   ]
  },
  {
   "cell_type": "code",
   "execution_count": null,
   "metadata": {},
   "outputs": [],
   "source": [
    "my_dict.setdefault(key, []).append(new_value)"
   ]
  },
  {
   "cell_type": "markdown",
   "metadata": {},
   "source": [
    "This is the same as running "
   ]
  },
  {
   "cell_type": "code",
   "execution_count": null,
   "metadata": {},
   "outputs": [],
   "source": [
    "if key not in my_dict:\n",
    " my_dict[key] = []\n",
    "my_dict[key].append(new_value)"
   ]
  },
  {
   "cell_type": "markdown",
   "metadata": {},
   "source": [
    "But the latter code performs at least two searches for key. Three if its not found. While setdefault does all this with only a single lookup.\n",
    "\n",
    "### Mappings with Flexible Key Lookup\n",
    "\n",
    "Sometimes it is convenient to have mappings that return some made-up value when missing key is searched. There are two main approaches:\n",
    "1. Using a `defaultdict`.\n",
    "2. Subclass `dict` or any other mapping type and add a `__missing__` method.\n",
    "\n",
    "### `defaultdict`: Another Take on Missing Keys\n",
    "Using collections.defaultdict provides a elegant solution for this problem. A defaultdict is configured to create items on demand whenever a missing key is searched. \n",
    "\n",
    "On instantiating a `defaultdict`, you  provide a callable that is\n",
    "used to produce a default value whenever `__getitem__` is passed a nonexistent key argument.\n",
    "\n",
    "On creating a default dict as `dd = defaultdict(list)`, when we call `dd['newkey']` and new key is non existent. Following steps are carried out:\n",
    "1. Calls `list()` to create a list.\n",
    "2. Inserts the list in the value of key : 'newkey'.\n",
    "3. Returns a reference to the list.\n",
    "\n",
    "The callable producing default values is held in an instance attribute the default_factory."
   ]
  },
  {
   "cell_type": "code",
   "execution_count": 1,
   "metadata": {},
   "outputs": [
    {
     "name": "stdout",
     "output_type": "stream",
     "text": [
      "Beautiful [(3, 1)]\n",
      "better [(3, 14), (4, 13), (5, 11), (6, 12), (7, 9)]\n",
      "by [(1, 20)]\n",
      "complex [(5, 23)]\n",
      "Complex [(6, 1)]\n",
      "complicated [(6, 24)]\n",
      "Explicit [(4, 1)]\n",
      "Flat [(7, 1)]\n",
      "implicit [(4, 25)]\n",
      "is [(3, 11), (4, 10), (5, 8), (6, 9), (7, 6)]\n",
      "nested [(7, 21)]\n",
      "of [(1, 9)]\n",
      "Peters [(1, 27)]\n",
      "Python [(1, 12)]\n",
      "Simple [(5, 1)]\n",
      "than [(3, 21), (4, 20), (5, 18), (6, 19), (7, 16)]\n",
      "The [(1, 1)]\n",
      "Tim [(1, 23)]\n",
      "ugly [(3, 26)]\n",
      "Zen [(1, 5)]\n"
     ]
    }
   ],
   "source": [
    "import re\n",
    "import collections\n",
    "\n",
    "WORD_RE = re.compile('\\w+')\n",
    "\n",
    "index = collections.defaultdict(list) #1\n",
    "with open('zen.txt', encoding='utf-8') as fp:\n",
    "    for line_no, line in enumerate(fp, 1):\n",
    "        for match in WORD_RE.finditer(line):\n",
    "            word = match.group()\n",
    "            column_no = match.start() + 1\n",
    "            location = (line_no, column_no)\n",
    "            index[word].append(location)\n",
    "\n",
    "for word in sorted(index, key=str.upper):\n",
    "    print(word, index[word])"
   ]
  },
  {
   "cell_type": "markdown",
   "metadata": {},
   "source": [
    "Here we initiate a defaultdict which creates an empty list when provided a non existent key.\n",
    "\n",
    "So on calling `index[word].append(location)` it will always return reference to a list and append the location tuple in the list.\n",
    "\n",
    "When no default_factory is provided the usual KeyError is raised.\n",
    "The dedault_factory is only invoked to provide default values for `__getitem__` calls. So if k is missing `dd.get(k)` (dd is a default dict) still returns `none` but a call to default factory is ade for creating default value.\n",
    "\n",
    "### The `__missing__` Method\n",
    "\n",
    "This method is the way mappings deal with missing keys. It is not defined in base dict class but dict ias aware of it. If we subclass dict and provide a `__missing__` method. The `dict.__getitem__` will call it on the missing key instead of raising KeyError.\n",
    "\n",
    "This method is only used by the `__getitem__` call and hence `default_factory` of default dict only works with it."
   ]
  },
  {
   "cell_type": "code",
   "execution_count": 32,
   "metadata": {},
   "outputs": [
    {
     "data": {
      "text/plain": [
       "'two'"
      ]
     },
     "execution_count": 32,
     "metadata": {},
     "output_type": "execute_result"
    }
   ],
   "source": [
    "class StrKeyDict0(dict):  # <1>\n",
    "\n",
    "    def __missing__(self, key):\n",
    "        if isinstance(key, str):  # <2>\n",
    "            raise KeyError(key)\n",
    "        return self[str(key)]  # <3>\n",
    "\n",
    "    def get(self, key, default=None):\n",
    "        try:\n",
    "            return self[key]  # <4>\n",
    "        except KeyError:\n",
    "            return default  # <5>\n",
    "\n",
    "    def __contains__(self, key):\n",
    "        return key in self.keys() or str(key) in self.keys() # <6>\n",
    "    \n",
    "d = StrKeyDict0([('2', 'two'), ('4', 'four')])\n",
    "d['2']"
   ]
  },
  {
   "cell_type": "markdown",
   "metadata": {},
   "source": [
    "1. `StrKeyDict0` inherits from `dict`.\n",
    "2. Check whether key is already a `str`. If it is, and it’s missing, raise `KeyError`.\n",
    "\n",
    "If the `isinstance` was not used, it would result in an infinite recursion if the `str(key)` would be non existent.\n",
    "\n",
    "3. Build str from key and look it up.\n",
    "4. The get method delegates to `__getitem__` by using the `self[key]` notation; that gives the opportunity for our `__missing__` to act.\n",
    "5. If a `KeyError` was raised, `__missing__` already failed, so we return the default.\n",
    "6. Search for unmodified key (the instance may contain non-str keys), then for a str built from the key."
   ]
  },
  {
   "cell_type": "code",
   "execution_count": 33,
   "metadata": {},
   "outputs": [
    {
     "data": {
      "text/plain": [
       "'four'"
      ]
     },
     "execution_count": 33,
     "metadata": {},
     "output_type": "execute_result"
    }
   ],
   "source": [
    "d[4]"
   ]
  },
  {
   "cell_type": "code",
   "execution_count": 6,
   "metadata": {},
   "outputs": [
    {
     "ename": "KeyError",
     "evalue": "'5'",
     "output_type": "error",
     "traceback": [
      "\u001b[1;31m---------------------------------------------------------------------------\u001b[0m",
      "\u001b[1;31mKeyError\u001b[0m                                  Traceback (most recent call last)",
      "\u001b[1;32m<ipython-input-6-155b713037cf>\u001b[0m in \u001b[0;36m<module>\u001b[1;34m\u001b[0m\n\u001b[1;32m----> 1\u001b[1;33m \u001b[0md\u001b[0m\u001b[1;33m[\u001b[0m\u001b[1;34m'5'\u001b[0m\u001b[1;33m]\u001b[0m\u001b[1;33m\u001b[0m\u001b[1;33m\u001b[0m\u001b[0m\n\u001b[0m",
      "\u001b[1;32m<ipython-input-4-45385bfe1a3f>\u001b[0m in \u001b[0;36m__missing__\u001b[1;34m(self, key)\u001b[0m\n\u001b[0;32m      3\u001b[0m     \u001b[1;32mdef\u001b[0m \u001b[0m__missing__\u001b[0m\u001b[1;33m(\u001b[0m\u001b[0mself\u001b[0m\u001b[1;33m,\u001b[0m \u001b[0mkey\u001b[0m\u001b[1;33m)\u001b[0m\u001b[1;33m:\u001b[0m\u001b[1;33m\u001b[0m\u001b[1;33m\u001b[0m\u001b[0m\n\u001b[0;32m      4\u001b[0m         \u001b[1;32mif\u001b[0m \u001b[0misinstance\u001b[0m\u001b[1;33m(\u001b[0m\u001b[0mkey\u001b[0m\u001b[1;33m,\u001b[0m \u001b[0mstr\u001b[0m\u001b[1;33m)\u001b[0m\u001b[1;33m:\u001b[0m  \u001b[1;31m# <2>\u001b[0m\u001b[1;33m\u001b[0m\u001b[1;33m\u001b[0m\u001b[0m\n\u001b[1;32m----> 5\u001b[1;33m             \u001b[1;32mraise\u001b[0m \u001b[0mKeyError\u001b[0m\u001b[1;33m(\u001b[0m\u001b[0mkey\u001b[0m\u001b[1;33m)\u001b[0m\u001b[1;33m\u001b[0m\u001b[1;33m\u001b[0m\u001b[0m\n\u001b[0m\u001b[0;32m      6\u001b[0m         \u001b[1;32mreturn\u001b[0m \u001b[0mself\u001b[0m\u001b[1;33m[\u001b[0m\u001b[0mstr\u001b[0m\u001b[1;33m(\u001b[0m\u001b[0mkey\u001b[0m\u001b[1;33m)\u001b[0m\u001b[1;33m]\u001b[0m  \u001b[1;31m# <3>\u001b[0m\u001b[1;33m\u001b[0m\u001b[1;33m\u001b[0m\u001b[0m\n\u001b[0;32m      7\u001b[0m \u001b[1;33m\u001b[0m\u001b[0m\n",
      "\u001b[1;31mKeyError\u001b[0m: '5'"
     ]
    }
   ],
   "source": [
    "d['5']"
   ]
  },
  {
   "cell_type": "code",
   "execution_count": 7,
   "metadata": {},
   "outputs": [
    {
     "data": {
      "text/plain": [
       "'two'"
      ]
     },
     "execution_count": 7,
     "metadata": {},
     "output_type": "execute_result"
    }
   ],
   "source": [
    "d.get(2)"
   ]
  },
  {
   "cell_type": "code",
   "execution_count": 8,
   "metadata": {},
   "outputs": [
    {
     "data": {
      "text/plain": [
       "'four'"
      ]
     },
     "execution_count": 8,
     "metadata": {},
     "output_type": "execute_result"
    }
   ],
   "source": [
    "d.get('4')"
   ]
  },
  {
   "cell_type": "code",
   "execution_count": 9,
   "metadata": {},
   "outputs": [
    {
     "data": {
      "text/plain": [
       "'N/A'"
      ]
     },
     "execution_count": 9,
     "metadata": {},
     "output_type": "execute_result"
    }
   ],
   "source": [
    "d.get('5','N/A')"
   ]
  },
  {
   "cell_type": "code",
   "execution_count": 10,
   "metadata": {},
   "outputs": [
    {
     "data": {
      "text/plain": [
       "True"
      ]
     },
     "execution_count": 10,
     "metadata": {},
     "output_type": "execute_result"
    }
   ],
   "source": [
    "2 in d"
   ]
  },
  {
   "cell_type": "code",
   "execution_count": 11,
   "metadata": {},
   "outputs": [
    {
     "data": {
      "text/plain": [
       "False"
      ]
     },
     "execution_count": 11,
     "metadata": {},
     "output_type": "execute_result"
    }
   ],
   "source": [
    "1 in d"
   ]
  },
  {
   "cell_type": "markdown",
   "metadata": {},
   "source": [
    "Since the operation k in d calls the `__contains__` method we have to change the implementation as the dict class does not fall back to invoking `__missing__`\n",
    "\n",
    "There is a subtle detail in our implementation of `__contains__`: we do not check for the key in the usual Pythonic way —> k in my_dict because `str(key) in self` would recursively call `__contains__`. We avoid this by explicitly looking up the key in `self.keys()`.\n",
    "\n",
    "A search like k in `my_dict.keys()` is efficient in Python 3 even\n",
    "for very large mappings because `dict.keys()` returns a view,\n",
    "which is similar to a set, and containment checks in sets are as\n",
    "fast as in dictionaries.\n",
    "\n",
    "#### Variations of dict\n",
    "\n",
    "Let's summarize the different mapping types in the collections module besides default dict:\n",
    "\n",
    "**`collections.OrderedDict`**: Maintains key in insertion order. The **`popitem`** method pops the first item by default, and last if `ord_dict.popitem(last=True)`.\n",
    "\n",
    "**`collections.ChainMap`**: Chainmap holds a list of mappings which can be searched as one. The lookup is performed in order and is success if key is found in any one of them.\n",
    "\n",
    "**`collections.Counter`**: A mapping which holds an integer count for each key. Updating an existing key adds to its count. Counter implements the `+` and `-` operators to combine tallies, and other useful methods such as `most_common([n])`, which returns an ordered list of tuples with the n most common items and their counts.\n",
    "\n",
    "For eg,"
   ]
  },
  {
   "cell_type": "code",
   "execution_count": 15,
   "metadata": {},
   "outputs": [
    {
     "data": {
      "text/plain": [
       "Counter({'a': 5, 'b': 2, 'r': 2, 'c': 1, 'd': 1})"
      ]
     },
     "execution_count": 15,
     "metadata": {},
     "output_type": "execute_result"
    }
   ],
   "source": [
    "import collections\n",
    "ct = collections.Counter('abracadabra')\n",
    "ct"
   ]
  },
  {
   "cell_type": "code",
   "execution_count": 16,
   "metadata": {},
   "outputs": [
    {
     "data": {
      "text/plain": [
       "Counter({'a': 10, 'b': 2, 'r': 2, 'c': 1, 'd': 1, 'z': 3})"
      ]
     },
     "execution_count": 16,
     "metadata": {},
     "output_type": "execute_result"
    }
   ],
   "source": [
    "ct.update('aaaaazzz')\n",
    "ct"
   ]
  },
  {
   "cell_type": "code",
   "execution_count": 17,
   "metadata": {},
   "outputs": [
    {
     "data": {
      "text/plain": [
       "[('a', 10), ('z', 3)]"
      ]
     },
     "execution_count": 17,
     "metadata": {},
     "output_type": "execute_result"
    }
   ],
   "source": [
    "ct.most_common(2)"
   ]
  },
  {
   "cell_type": "markdown",
   "metadata": {},
   "source": [
    "**`collections.UserDict`**: A pure python implementation of a mapping that works like a standard dict.\n",
    "\n",
    "While OrderedDict, ChainMap, and Counter come ready to use, UserDict is designed to be subclassed.\n",
    "\n",
    "### Subclassing UserDict\n",
    "It’s almost always easier to create a new mapping type by extending UserDict rather than dict. Its value can be appreciated as we extend our StrKeyDict0 from to make sure that any keys added to the mapping are stored as str.\n",
    "\n",
    "Note that UserDict does not inherit from dict, but has an internal dict instance, called `data`, which holds the actual items. This avoids undesired recursion when coding special methods like `__setitem__`, and simplifies the coding of `__contains__`.\n",
    "\n",
    "Due to UserDict, the implementation StrKeyDict is shorter than the original StfKeyDict0 which inherited dict but it does more: it stores all keys as str, avoiding unpleasant surprises if he instance is built or updated with data containing nonstring keys. "
   ]
  },
  {
   "cell_type": "code",
   "execution_count": 20,
   "metadata": {},
   "outputs": [],
   "source": [
    "import collections\n",
    "\n",
    "class StrKeyDict(collections.UserDict):\n",
    "    def __missing__(self, key):\n",
    "        if isinstance(key, str):\n",
    "            raise KeyError(key)\n",
    "        return self[str(key)]\n",
    "    \n",
    "    def __contains__(self, key):\n",
    "        return str(key) in self.data\n",
    "    \n",
    "    def __setitem__(self, key, item):\n",
    "        self.data[str(key)] = item"
   ]
  },
  {
   "cell_type": "markdown",
   "metadata": {},
   "source": [
    "`__contains__` is simpler: we can assume allstored keys are str and we can check on `self.data` instead of invoking `self.keys()` as we did in `StrKeyDict0`.\n",
    "\n",
    "`__setitem__` converts any key to str before writing to `self.data` attribute.\n",
    "\n",
    "Because UserDict subclasses MutableMapping, the remaining methods that make\n",
    "StrKeyDict a full-fledged mapping are inherited from UserDict, MutableMapping, or Mapping. The latter have several useful concrete methods, in spite of being abstract base classes (ABCs). The following methods are worth noting:\n",
    "\n",
    "**`MutableMapping.update`**\n",
    "This is a powerful method also used by `__init__` to load instance from other mappings, from iterables of (key, value) pairs andkeyword arguments. Since, it uses `self[key] = value` to add items, it ends up calling `__setitem__`.\n",
    "\n",
    "**`Mapping.get`**\n",
    "\n",
    "### Immutable Mappings\n",
    "The mapping types provided by the standard library are all mutable, but you may need to guarantee that a user cannot change a mapping by mistake.\n",
    "\n",
    "Since Python 3.3, the types module provides a wrapper class called `MappingProxyType`, which, given a mapping, returns a mappingproxy instance that is a read-only but dynamic view of the original mapping. This means that updates to the original mapping can be seen in the mappingproxy, but changes cannot be made through it."
   ]
  },
  {
   "cell_type": "code",
   "execution_count": 21,
   "metadata": {},
   "outputs": [
    {
     "data": {
      "text/plain": [
       "mappingproxy({1: 'A'})"
      ]
     },
     "execution_count": 21,
     "metadata": {},
     "output_type": "execute_result"
    }
   ],
   "source": [
    "from types import MappingProxyType\n",
    "\n",
    "d = {1: 'A'}\n",
    "d_proxy = MappingProxyType(d)\n",
    "d_proxy"
   ]
  },
  {
   "cell_type": "code",
   "execution_count": 22,
   "metadata": {},
   "outputs": [
    {
     "data": {
      "text/plain": [
       "'A'"
      ]
     },
     "execution_count": 22,
     "metadata": {},
     "output_type": "execute_result"
    }
   ],
   "source": [
    "d_proxy[1]"
   ]
  },
  {
   "cell_type": "code",
   "execution_count": 23,
   "metadata": {},
   "outputs": [
    {
     "ename": "TypeError",
     "evalue": "'mappingproxy' object does not support item assignment",
     "output_type": "error",
     "traceback": [
      "\u001b[1;31m---------------------------------------------------------------------------\u001b[0m",
      "\u001b[1;31mTypeError\u001b[0m                                 Traceback (most recent call last)",
      "\u001b[1;32m<ipython-input-23-bc17a9a62754>\u001b[0m in \u001b[0;36m<module>\u001b[1;34m\u001b[0m\n\u001b[1;32m----> 1\u001b[1;33m \u001b[0md_proxy\u001b[0m\u001b[1;33m[\u001b[0m\u001b[1;36m2\u001b[0m\u001b[1;33m]\u001b[0m \u001b[1;33m=\u001b[0m \u001b[1;34m'x'\u001b[0m\u001b[1;33m\u001b[0m\u001b[1;33m\u001b[0m\u001b[0m\n\u001b[0m",
      "\u001b[1;31mTypeError\u001b[0m: 'mappingproxy' object does not support item assignment"
     ]
    }
   ],
   "source": [
    "d_proxy[2] = 'x'"
   ]
  },
  {
   "cell_type": "code",
   "execution_count": 25,
   "metadata": {},
   "outputs": [
    {
     "data": {
      "text/plain": [
       "mappingproxy({1: 'A', 2: 'B'})"
      ]
     },
     "execution_count": 25,
     "metadata": {},
     "output_type": "execute_result"
    }
   ],
   "source": [
    "d[2] = 'B'\n",
    "d_proxy"
   ]
  },
  {
   "cell_type": "code",
   "execution_count": 26,
   "metadata": {},
   "outputs": [
    {
     "data": {
      "text/plain": [
       "'B'"
      ]
     },
     "execution_count": 26,
     "metadata": {},
     "output_type": "execute_result"
    }
   ],
   "source": [
    "d_proxy[2]"
   ]
  },
  {
   "cell_type": "markdown",
   "metadata": {},
   "source": [
    "1. Items in `d` can be seen through `d_proxy`.\n",
    "2. Changes cannot be made through `d_proxy`.\n",
    "3. `d_proxy` is dynamic, any change in `d` is reflected.\n",
    "\n",
    "### Set Theory\n",
    "Sets are relatively new in python. A set is a collection of unique objects.A basic use case is removing duplication.\n"
   ]
  },
  {
   "cell_type": "code",
   "execution_count": 28,
   "metadata": {},
   "outputs": [
    {
     "data": {
      "text/plain": [
       "{'eggs', 'spam'}"
      ]
     },
     "execution_count": 28,
     "metadata": {},
     "output_type": "execute_result"
    }
   ],
   "source": [
    "l = ['spam', 'spam', 'eggs', 'spam']\n",
    "set(l)"
   ]
  },
  {
   "cell_type": "code",
   "execution_count": 29,
   "metadata": {},
   "outputs": [
    {
     "data": {
      "text/plain": [
       "['spam', 'eggs']"
      ]
     },
     "execution_count": 29,
     "metadata": {},
     "output_type": "execute_result"
    }
   ],
   "source": [
    "list(set(l))"
   ]
  },
  {
   "cell_type": "markdown",
   "metadata": {},
   "source": [
    " Set elements must be hashable. The set type is not hashable, but frozenset is, so you can have frozenset elements inside set.\n",
    " Set also implements essential set operations as infix operators.\n",
    " 1. `A | B` - Union\n",
    " 2. `A & B` - Intersection\n",
    " 3. `A - B` - Difference\n",
    "\n",
    "Sets can reduce both the code lines and the program runtime by removubg loops and conditional logic.\n",
    " \n",
    "For eg, you need to count how many email addreses occur froma small set of email addresses(needles) in a large set of email addresses(haystack).\n",
    " \n",
    "Using set:"
   ]
  },
  {
   "cell_type": "code",
   "execution_count": null,
   "metadata": {},
   "outputs": [],
   "source": [
    "found = len(needles & haystack)"
   ]
  },
  {
   "cell_type": "markdown",
   "metadata": {},
   "source": [
    "Using loops:"
   ]
  },
  {
   "cell_type": "code",
   "execution_count": null,
   "metadata": {},
   "outputs": [],
   "source": [
    "found = 0\n",
    "for n in needles:\n",
    "    if n in haystack:\n",
    "        found += 1\n"
   ]
  },
  {
   "cell_type": "markdown",
   "metadata": {},
   "source": [
    "The set example is faster than the loop example but it requires that both needles and haysack be sets. Whereas, loops can be used over any iterable.\n",
    "\n",
    "But remember, u can build sets on the fly."
   ]
  },
  {
   "cell_type": "code",
   "execution_count": null,
   "metadata": {},
   "outputs": [],
   "source": [
    "found = len(set(needles) & set(haystack))\n",
    "found = len(set(needles).intersection(haystack))"
   ]
  },
  {
   "cell_type": "markdown",
   "metadata": {},
   "source": [
    "Any one of the preceding examples are capable of searching 1,000 values in a haystack of 10,000,000 items in a little over 3 milliseconds—that’s about 3 microseconds per needle.\n",
    "\n",
    "Besides the extremely fast membership test (thanks to the underlying hash table), the `set` and `frozenset` built-in types provide a rich selection of operations to create new sets or, in the case of set, to change existing ones. \n",
    "\n",
    "### `set` Literals\n",
    "\n",
    "The syntax of `set` literals—{1}, {1, 2}, etc.—looks exactly like the math notation, with one important exception: there’s no literal notation for the empty set, so we must remember to write `set()`.\n"
   ]
  },
  {
   "cell_type": "code",
   "execution_count": 34,
   "metadata": {},
   "outputs": [
    {
     "data": {
      "text/plain": [
       "set"
      ]
     },
     "execution_count": 34,
     "metadata": {},
     "output_type": "execute_result"
    }
   ],
   "source": [
    "s = {1}\n",
    "type(s)"
   ]
  },
  {
   "cell_type": "code",
   "execution_count": 35,
   "metadata": {},
   "outputs": [
    {
     "data": {
      "text/plain": [
       "{1}"
      ]
     },
     "execution_count": 35,
     "metadata": {},
     "output_type": "execute_result"
    }
   ],
   "source": [
    "s"
   ]
  },
  {
   "cell_type": "code",
   "execution_count": 36,
   "metadata": {},
   "outputs": [
    {
     "data": {
      "text/plain": [
       "1"
      ]
     },
     "execution_count": 36,
     "metadata": {},
     "output_type": "execute_result"
    }
   ],
   "source": [
    "s.pop()"
   ]
  },
  {
   "cell_type": "code",
   "execution_count": 37,
   "metadata": {},
   "outputs": [
    {
     "data": {
      "text/plain": [
       "set()"
      ]
     },
     "execution_count": 37,
     "metadata": {},
     "output_type": "execute_result"
    }
   ],
   "source": [
    "s"
   ]
  },
  {
   "cell_type": "markdown",
   "metadata": {},
   "source": [
    "Literal set syntax like {1, 2, 3} is both faster and more readable than calling the constructor (e.g., `set([1, 2, 3]))`. The latter form is slower because, to evaluate it, Python has to look up the set name to fetch the constructor, then build a list, and finally pass it to the constructor. In contrast, to process a literal like {1, 2, 3}, Python runs a specialized `BUILD_SET` bytecode.\n"
   ]
  },
  {
   "cell_type": "code",
   "execution_count": 38,
   "metadata": {},
   "outputs": [
    {
     "name": "stdout",
     "output_type": "stream",
     "text": [
      "  1           0 LOAD_CONST               0 (1)\n",
      "              2 BUILD_SET                1\n",
      "              4 RETURN_VALUE\n"
     ]
    }
   ],
   "source": [
    "from dis import dis\n",
    "dis('{1}')"
   ]
  },
  {
   "cell_type": "code",
   "execution_count": 39,
   "metadata": {},
   "outputs": [
    {
     "name": "stdout",
     "output_type": "stream",
     "text": [
      "  1           0 LOAD_NAME                0 (set)\n",
      "              2 LOAD_CONST               0 (1)\n",
      "              4 BUILD_LIST               1\n",
      "              6 CALL_FUNCTION            1\n",
      "              8 RETURN_VALUE\n"
     ]
    }
   ],
   "source": [
    "dis('set([1])')"
   ]
  },
  {
   "cell_type": "markdown",
   "metadata": {},
   "source": [
    "Three operations instead of `BUILD_SET`: `LOAD_NAME`, `BUILD_LIST` and\n",
    "`CALL_FUNCTION`.\n",
    "\n",
    "There is no special syntax to represent `frozenset` literals—they must be created by calling the constructor. The standard string representation in Python 3 looks like a `frozenset` constructor call."
   ]
  },
  {
   "cell_type": "code",
   "execution_count": 40,
   "metadata": {},
   "outputs": [
    {
     "data": {
      "text/plain": [
       "frozenset({0, 1, 2, 3, 4, 5, 6, 7, 8, 9})"
      ]
     },
     "execution_count": 40,
     "metadata": {},
     "output_type": "execute_result"
    }
   ],
   "source": [
    "frozenset(range(10))"
   ]
  },
  {
   "cell_type": "markdown",
   "metadata": {},
   "source": [
    "### Set Comprehensions"
   ]
  },
  {
   "cell_type": "code",
   "execution_count": 42,
   "metadata": {},
   "outputs": [
    {
     "data": {
      "text/plain": [
       "{'#',\n",
       " '$',\n",
       " '%',\n",
       " '+',\n",
       " '<',\n",
       " '=',\n",
       " '>',\n",
       " '¢',\n",
       " '£',\n",
       " '¤',\n",
       " '¥',\n",
       " '§',\n",
       " '©',\n",
       " '¬',\n",
       " '®',\n",
       " '°',\n",
       " '±',\n",
       " 'µ',\n",
       " '¶',\n",
       " '×',\n",
       " '÷'}"
      ]
     },
     "execution_count": 42,
     "metadata": {},
     "output_type": "execute_result"
    }
   ],
   "source": [
    "from unicodedata import name\n",
    "{chr(i) for i in range(32, 256) if 'SIGN' in name(chr(i),'')}"
   ]
  },
  {
   "cell_type": "markdown",
   "metadata": {},
   "source": [
    "Build set of characters with codes from 32 to 255 that have the word `'SIGN'` in their names.\n",
    "\n",
    "### Set Operations\n",
    "Many of the set operations are special methods for operator overloading.\n",
    "Some operators and methods perform in-place changes on the target set (e.g., `&=`, `difference_update`, etc.). Such operations make no sense in the ideal world of mathematical sets, and are not implemented in `frozenset`.\n",
    "\n",
    "![title](assets/chp3-umlset.png)\n",
    "\n",
    "Math operations for set:\n",
    "![title](assets/chp3-setmath.png)\n",
    "\n"
   ]
  },
  {
   "cell_type": "markdown",
   "metadata": {},
   "source": [
    "### `dict` and `set` Under the Hood\n",
    "Understanding how Python dictionaries and sets are implemented using hash tables is helpful to make sense of their strengths and limitations.\n",
    "\n",
    "Here are some questions this section will answer:\n",
    "1. How efficient are Python dict and set?\n",
    "2. Why are they unordered?\n",
    "3. Why can’t we use any Python object as a dict key or set element?\n",
    "4. Why does the order of the dict keys or set elements depend on insertion order, and may change during the lifetime of the structure?\n",
    "5. Why is it bad to add items to a dict or set while iterating through it?\n",
    "\n",
    "#### A Performance Experiment\n",
    "\n",
    "To see how the size of a `dict`, `set`, or `list` affects the performance of search using the in operator, I generated an array of 10 million distinct double-precision floats, the “haystack.” I then generated an array of needles: 1,000 floats, with 500 picked from the haystack and 500 verified not to be in it.\n",
    "\n",
    "![title](assets/chp3-benchmark.png)\n",
    "\n",
    "For the dict benchmark, `dict.fromkeys()` is used to create a dict named haystack with 1,000 floats. \n",
    "All the benchmarks use the `in` operator except the `set&` which uses the\n",
    "`'&'` intersection method from set.\n",
    "The `set&` benchmark is the best among all the others.\n",
    "Whereas, in list you can see the time rising linearly as the haystack size increases as it has to do a full list scan every time.\n"
   ]
  },
  {
   "cell_type": "markdown",
   "metadata": {},
   "source": [
    "### Hash Tables in Dictionaries\n",
    "This is a high-level view of how Python uses a hash table to implement a dict.\n",
    "A hash table is a sparse array (i.e., an array that always has empty cells). In standard data structure texts, the cells in a hash table are often called “buckets.” In a dict hash table, there is a bucket for each item, and it contains two fields: a reference to the key and a reference to the value of the item. Because all buckets have the same size, access to an individual bucket is done by offset.\n",
    "\n",
    "Python tries to keep at least 1/3 of the buckets empty; if the hash table becomes too crowded, it is copied to a new location with room for more buckets.\n",
    "To put an item in a hash table, the first step is to calculate the hash value of the item key, which is done with the `hash()` built-in function\n",
    "\n",
    "The `hash()` built-in function works directly with built-in types and falls back to calling `__hash__` for user-defined types. If two objects compare equal, their hash values must also be equal, otherwise the hash table algorithm does not work. \n",
    "\n",
    "Starting with Python 3.3, a random salt value is added to the\n",
    "hashes of `str`, `bytes`, and `datetime` objects. The salt value is\n",
    "constant within a Python process but varies between interpreter\n",
    "runs. The random salt is a security measure to prevent a DOS\n",
    "attack\n",
    "\n",
    "#### The hash table algorithm\n",
    "\n",
    "To fetch value at `my_dict[search_key]`, python calls hash(search_key) to obtain hash value of search_key and uses the lsb's as offset to lookup a bucket in the hash table. If the found bucket is empty, `KeyError` is raised. Otherwise, the found bucket has an item—a `found_key:found_value` pair—and then Python checks whether `search_key == found_key`. If they match, that was the item sought: `found_value` is returned.\n",
    "\n",
    "However, if `search_key` and `found_key` do not match, this is a hash collision. This happens because a hash function maps arbitrary objects to a small number of bits, and—in addition—the hash table is indexed with a subset of those bits. In order to resolve the collision, the algorithm then takes different bits in the hash, massages them in a particular way, and uses the result as an offset to look up a different bucket. If that is empty, `KeyError` is raised; if not, either the keys match and the item value is returned, or the\n",
    "collision resolution process is repeated.\n",
    "\n",
    "![title](assets/chp3-hashalgorithm.png)\n",
    "\n",
    "The process to insert or update an item is the same, except that when an empty bucket is located, the new item is put there, and when a bucket with a matching key is found, the value in that bucket is overwritten with the new value.\n",
    "\n",
    "Additionally, when inserting items, Python may determine that the hash table is too crowded and rebuild it to a new location with more room. As the hash table grows, so does the number of hash bits used as bucket offsets, and this keeps the rate of collisions low.\n",
    "\n",
    "This implementation may seem like a lot of work, but even with millions of items in a dict, many searches happen with no collisions, and the average number of collisions per search is between one and two. Under normal usage, even the unluckiest keys can be found after a handful of collisions are resolved. \n",
    "\n",
    "Knowing the internals of the dict implementation we can explain the strengths and limitations of this data structure and all the others derived from it in Python."
   ]
  },
  {
   "cell_type": "markdown",
   "metadata": {},
   "source": [
    "### Practical Consequences of how `dict` works\n",
    "\n",
    "#### Keys must be hashable objects\n",
    "An object is hashable only if:\n",
    "1. It supports `hash()` function via the `hash()` method that returns same value over the lifetime of the object.\n",
    "2. Must support equality via `eq()` method.\n",
    "3. If `a == b` is `True` then `hash(a) == hash(b)` must also be `True`.\n",
    "\n",
    "User-defined types are hashable by default because their hash value is their `id()` and they all compare not equal.\n",
    "\n",
    "If you implement a class with a custom `__eq__` method, you must\n",
    "also implement a suitable `__hash__`, because you must always make\n",
    "sure that if `a == b` is True then `hash(a) == hash(b)` is also True.\n",
    "Otherwise you are breaking an invariant of the hash table algo‐\n",
    "rithm, with the grave consequence that dicts and sets will not deal\n",
    "reliably with your objects. If a custom `__eq__` depends on muta‐\n",
    "ble state, then `__hash__` must raise `TypeError` with a message like\n",
    "unhashable type: `'MyClass'`."
   ]
  },
  {
   "cell_type": "markdown",
   "metadata": {},
   "source": [
    "#### dicts have significant memory overhead\n",
    "Because a `dict` uses a hash table internally, and hash tables must be sparse to work, they are not space efficient. \n",
    "Replacing dicts with tuples reduces the memory usage in two ways: by removing the overhead of one hash table per record and by not storing the field names again with each record.\n",
    "\n",
    "#### Key search is very fast\n",
    "The `dict` implementation is an example of trading space for time: dictionaries have significant memory overhead, but they provide fast access regardless of the size of the dictionary—as long as it fits in memory.\n",
    "\n",
    "#### Key ordering depends on insertion order\n",
    "When a hash collision happens, the second key ends up in a position that it would not normally occupy if it had been inserted first."
   ]
  },
  {
   "cell_type": "code",
   "execution_count": 5,
   "metadata": {},
   "outputs": [
    {
     "name": "stdout",
     "output_type": "stream",
     "text": [
      "d1: dict_keys([86, 91, 1, 62, 55, 92, 880, 234, 7, 81])\n"
     ]
    }
   ],
   "source": [
    "DIAL_CODES = [\n",
    "     (86, 'China'),\n",
    "     (91, 'India'),\n",
    "     (1, 'United States'),\n",
    "     (62, 'Indonesia'),\n",
    "     (55, 'Brazil'),\n",
    "     (92, 'Pakistan'),\n",
    "     (880, 'Bangladesh'),\n",
    "     (234, 'Nigeria'),\n",
    "     (7, 'Russia'),\n",
    "     (81, 'Japan'),\n",
    " ]\n",
    "d1 = dict(DIAL_CODES)\n",
    "print('d1:', d1.keys())\n"
   ]
  },
  {
   "cell_type": "code",
   "execution_count": 6,
   "metadata": {},
   "outputs": [
    {
     "name": "stdout",
     "output_type": "stream",
     "text": [
      "d2 dict_keys([1, 7, 55, 62, 81, 86, 91, 92, 234, 880])\n"
     ]
    }
   ],
   "source": [
    "d2 = dict(sorted(DIAL_CODES))\n",
    "print('d2', d2.keys())"
   ]
  },
  {
   "cell_type": "code",
   "execution_count": 7,
   "metadata": {},
   "outputs": [
    {
     "name": "stdout",
     "output_type": "stream",
     "text": [
      "d3: dict_keys([880, 55, 86, 91, 62, 81, 234, 92, 7, 1])\n"
     ]
    }
   ],
   "source": [
    "d3 = dict(sorted(DIAL_CODES, key = lambda x:x[1]))\n",
    "print('d3:', d3.keys())"
   ]
  },
  {
   "cell_type": "code",
   "execution_count": 9,
   "metadata": {},
   "outputs": [],
   "source": [
    "assert d1 == d2 and d2 == d3"
   ]
  },
  {
   "cell_type": "markdown",
   "metadata": {},
   "source": [
    "1. **d1**: built from the tuples in descending order of country population.\n",
    "2. **d2**: built from the tuples sorted by dial code.\n",
    "3. **d3**: loaded with tuples sorted by country name.\n",
    "4. The dictionaries compares equal, because they hold the same key:value pairs. \n",
    "\n",
    "#### Adding items may change the order of items.\n",
    "\n",
    "When adding a new item to a dict, the interpreter may decide that the hash table needs to grow. During this process, new hash collisions may happen, so the result is likely that the items are ordered differently in the new hash table. This is implementation dependent and cannot be predicted reliably. That is why modifying contents of a dict while iterating is a bad idea, because the dictionary may not scan all the items if in case python decides to reorder the hash table.\n",
    "\n",
    "Thus, the correct way is to scan the dict from start to finish and collect the needed additions in second dict and update it with the first one when finished.\n",
    "\n",
    "### How Sets Work\n",
    "\n",
    "The `set` and `frozenset` types are also implemented using a hash table except that each bucket holds only a reference to the element.\n",
    "\n",
    "1. Set elements must be hashable objects.\n",
    "2. Sets have significant memory overhead.\n",
    "3. Mmebership testing is very efficient.\n",
    "4. Element ordering depends on insertion order.\n",
    "5. Adding elements to a set may change the order of the other elements.\n",
    "\n"
   ]
  }
 ],
 "metadata": {
  "kernelspec": {
   "display_name": "Python 3",
   "language": "python",
   "name": "python3"
  },
  "language_info": {
   "codemirror_mode": {
    "name": "ipython",
    "version": 3
   },
   "file_extension": ".py",
   "mimetype": "text/x-python",
   "name": "python",
   "nbconvert_exporter": "python",
   "pygments_lexer": "ipython3",
   "version": "3.7.2"
  }
 },
 "nbformat": 4,
 "nbformat_minor": 2
}
